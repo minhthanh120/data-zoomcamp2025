{
  "nbformat": 4,
  "nbformat_minor": 0,
  "metadata": {
    "colab": {
      "provenance": []
    },
    "kernelspec": {
      "display_name": "Python 3",
      "language": "python",
      "name": "python3"
    },
    "language_info": {
      "codemirror_mode": {
        "name": "ipython",
        "version": 3
      },
      "file_extension": ".py",
      "mimetype": "text/x-python",
      "name": "python",
      "nbconvert_exporter": "python",
      "pygments_lexer": "ipython3",
      "version": "3.6.5"
    }
  },
  "cells": [
    {
      "cell_type": "markdown",
      "metadata": {
        "id": "iox_ufgbqDXa"
      },
      "source": [
        "<h1><center>Introduction to Google Colab and PySpark</center></h1>"
      ]
    },
    {
      "cell_type": "markdown",
      "metadata": {
        "id": "1qV6Grv7qIa9"
      },
      "source": [
        "## Table Of Contents:\n",
        "<ol>\n",
        "<li><a href=\"#objective\">Objective</a></li>\n",
        "<li><a href=\"#prerequisite\">Prerequisite</a></li>\n",
        "<li><a href=\"#notes-from-the-author\">Notes from the Author</a></li>\n",
        "<li><a href=\"#big-data-pyspark-and-colaboratory\">Big data, PySpark and Colaboratory</a>\n",
        "    <ol>\n",
        "        <li><a href=\"#big-data\">Big data</a></li>\n",
        "        <li><a href=\"#pyspark\">PySpark</a></li>\n",
        "        <li><a href=\"#colaboratory\">Colaboratory</a></li>\n",
        "    </ol>\n",
        "</li>\n",
        "<li><a href=\"#jupyter-notebook-basics\">Jupyter Notebook Basics</a>\n",
        "    <ol>\n",
        "        <li><a href=\"#code-cells\">Code cells</a></li>\n",
        "        <li><a href=\"#text-cells\">Text cells</a></li>\n",
        "        <li><a href=\"#access-to-the-shell\">Access to the shell</a></li>\n",
        "        <li><a href=\"#installing-spark\">Installing Spark</a></li>\n",
        "    </ol>\n",
        "</li>\n",
        "<li><a href=\"#exploring-the-dataset\">Exploring the Dataset</a>\n",
        "    <ol>\n",
        "        <li><a href=\"#loading-the-dataset\">Loading the Dataset</a></li>\n",
        "        <li><a href=\"#viewing-the-dataframe\">Viewing the Dataframe</a></li>\n",
        "        <li><a href=\"#viewing-dataframe-columns\">Viewing Dataframe Columns</a></li>\n",
        "        <li><a href=\"#dataframe-schema\">Dataframe Schema</a>\n",
        "          <ul>\n",
        "            <li><a href=\"#implicit-schema-inference\">Inferring Schema Implicitly</a></li>\n",
        "            <li><a href=\"#explicit-schema-inference\">Defining Schema Explicitly</a></li>\n",
        "          </ul>\n",
        "        </li>\n",
        "    </ol>\n",
        "</li>\n",
        "<li><a href=\"#dataframe-operations-on-columns\">DataFrame Operations on Columns</a>\n",
        "    <ol>\n",
        "        <li><a href=\"#selecting-columns\">Selecting Columns</a></li>\n",
        "        <li><a href=\"#selecting-multiple-columns\">Selecting Multiple Columns</a></li>\n",
        "        <li><a href=\"#adding-new-columns\">Adding New Columns</a></li>\n",
        "        <li><a href=\"#renaming-columns\">Renaming Columns</a>\n",
        "        <li><a href=\"#grouping-by-columns\">Grouping By Columns</a>\n",
        "        <li><a href=\"#removing-columns\">Removing Columns</a>\n",
        "    </ol>\n",
        "</li>\n",
        "<li><a href=\"#dataframe-operations-on-rows\">DataFrame Operations on Rows</a>\n",
        "    <ol>\n",
        "        <li><a href=\"#filtering-rows\">Filtering Rows</a></li>\n",
        "        <li><a href=\"#get-distinct-rows\">Get Distinct Rows</a></li>\n",
        "        <li><a href=\"#sorting-rows\">Sorting Rows</a></li>\n",
        "        <li><a href=\"#union-dataframes\">Union Dataframes</a>\n",
        "    </ol>\n",
        "</li>\n",
        "<li><a href=\"#common-data-manipulation-functions\">Common Data Manipulation Functions</a>\n",
        "    <ol>\n",
        "        <li><a href=\"#string-functions\">String Functions</a></li>\n",
        "        <li><a href=\"#numeric-functions\">Numeric Functions</a></li>\n",
        "        <li><a href=\"#operations-on-date\">Operations on Date</a></li>\n",
        "    </ol>\n",
        "</li>\n",
        "<li><a href=\"#joins-in-pyspark\">Joins in PySpark</a></li>\n",
        "<li><a href=\"#spark-sql\">Spark SQL</a></li>\n",
        "<li><a href=\"#rdd\">RDD</a></li>\n",
        "<li><a href=\"#user-defined-functions-udf\">User-Defined Functions (UDF)</a></li>\n",
        "<li><a href=\"#common-questions\">Common Questions</a>\n",
        "    <ol>\n",
        "        <li><a href=\"#recommended-ide\">Recommended IDE</a></li>\n",
        "        <li><a href=\"#submitting-a-spark-job\">Submitting a Spark Job</a></li>\n",
        "        <li><a href=\"#creating-dataframes\">Creating Dataframes</a></li>\n",
        "        <li><a href=\"#drop-duplicates\">Drop Duplicates</a></li>\n",
        "        <li><a href=\"#fine-tuning-a-pyspark-job\">Fine Tuning a PySpark Job</a>\n",
        "          <ul>\n",
        "            <li><a href=\"#emr-sizing\">EMR Sizing</a></li>\n",
        "            <li><a href=\"#spark-configurations\">Spark Configurations</a></li>\n",
        "            <li><a href=\"#job-tuning\">Job Tuning</a>\n",
        "            <li><a href=\"#best-practices\">Best Practices</a>\n",
        "          </ul>\n",
        "        </li>\n",
        "    </ol>\n",
        "</li>\n",
        "</ol>"
      ]
    },
    {
      "cell_type": "markdown",
      "metadata": {
        "id": "FFnYZltvqLgt"
      },
      "source": [
        "<a id='objective'></a>\n",
        "## Objective\n",
        "The objective of this notebook is to:\n",
        "><li>Give a proper understanding about the different PySpark functions available. </li>\n",
        "><li>A short introduction to Google Colab, as that is the platform on which this notebook is written on. </li>\n",
        "\n",
        "Once you complete this notebook, you should be able to write pyspark programs in an efficent way. The ideal way to use this is by going through the examples given and then trying them on Colab. At the end there are a few hands on questions which you can use to evaluate yourself."
      ]
    },
    {
      "cell_type": "markdown",
      "metadata": {
        "id": "YR1CO3FTqO5h"
      },
      "source": [
        "<a id='prerequisite'></a>\n",
        "## Prerequisite\n",
        "><li>Although some theory about pyspark and big data will be given in this notebook, I recommend everyone to read more about it and have a deeper understanding on how the functions get executed and the relevance of big data in the current scenario.\n",
        "><li>A good understanding on python will be an added bonus."
      ]
    },
    {
      "cell_type": "markdown",
      "metadata": {
        "id": "bGbIBPLHqVXc"
      },
      "source": [
        "<a id='notes-from-the-author'></a>\n",
        "## Notes from the Author\n",
        "\n",
        "This tutorial was made using Google Colab so the code you see here is meant to run on a colab notebook. <br>\n",
        "It goes through basic [PySpark Functions](https://spark.apache.org/docs/latest/api/python/index.html) and a short introduction on how to use [Colab](https://colab.research.google.com/notebooks/basic_features_overview.ipynb). <br>\n",
        "If you want to view my colab notebook for this particular tutorial, you can view it [here](https://colab.research.google.com/drive/1G894WS7ltIUTusWWmsCnF_zQhQqZCDOc). The viewing experience and readability is much better there. <br>\n",
        "If you want to try out things with this notebook as a base, feel free to download it from my repo [here](https://github.com/jacobceles/knowledge-repo/blob/master/pyspark/Colab%20and%20PySpark.ipynb) and then use it with jupyter notebook."
      ]
    },
    {
      "cell_type": "code",
      "metadata": {
        "id": "tt7ZS1_wGgjn"
      },
      "source": [
        "!apt-get install openjdk-8-jdk-headless -qq > /dev/null\n",
        "!wget -q http://archive.apache.org/dist/spark/spark-3.5.1/spark-3.5.1-bin-hadoop3.tgz\n",
        "!tar xf spark-3.5.1-bin-hadoop3.tgz\n",
        "!pip install -q findspark"
      ],
      "execution_count": 1,
      "outputs": []
    },
    {
      "cell_type": "code",
      "metadata": {
        "id": "sdOOq4twHN1K"
      },
      "source": [
        "import os\n",
        "os.environ[\"JAVA_HOME\"] = \"/usr/lib/jvm/java-8-openjdk-amd64\"\n",
        "os.environ[\"SPARK_HOME\"] = \"/content/spark-3.5.1-bin-hadoop3\""
      ],
      "execution_count": 2,
      "outputs": []
    },
    {
      "cell_type": "code",
      "metadata": {
        "id": "KR1zLBk1998Z",
        "colab": {
          "base_uri": "https://localhost:8080/"
        },
        "outputId": "22f64c1e-bc1a-4963-f2e6-381ba990d815"
      },
      "source": [
        "import findspark\n",
        "findspark.init()\n",
        "from pyspark.sql import SparkSession\n",
        "spark = SparkSession.builder.master(\"local[*]\").getOrCreate()\n",
        "spark.conf.set(\"spark.sql.repl.eagerEval.enabled\", True) # Property used to format output tables better\n",
        "spark\n",
        "print(spark.version)"
      ],
      "execution_count": 9,
      "outputs": [
        {
          "output_type": "stream",
          "name": "stdout",
          "text": [
            "3.5.1\n"
          ]
        }
      ]
    },
    {
      "cell_type": "code",
      "source": [
        "!wget https://d37ci6vzurychx.cloudfront.net/trip-data/yellow_tripdata_2024-10.parquet"
      ],
      "metadata": {
        "colab": {
          "base_uri": "https://localhost:8080/"
        },
        "id": "lpFGMFoiYznA",
        "outputId": "23a3d217-ee47-4fe0-f2ea-8e38ea4580ca"
      },
      "execution_count": 39,
      "outputs": [
        {
          "output_type": "stream",
          "name": "stdout",
          "text": [
            "--2025-02-23 15:45:27--  https://d37ci6vzurychx.cloudfront.net/trip-data/yellow_tripdata_2024-10.parquet\n",
            "Resolving d37ci6vzurychx.cloudfront.net (d37ci6vzurychx.cloudfront.net)... 18.154.99.220, 18.154.99.225, 18.154.99.177, ...\n",
            "Connecting to d37ci6vzurychx.cloudfront.net (d37ci6vzurychx.cloudfront.net)|18.154.99.220|:443... connected.\n",
            "HTTP request sent, awaiting response... 200 OK\n",
            "Length: 64346071 (61M) [binary/octet-stream]\n",
            "Saving to: ‘yellow_tripdata_2024-10.parquet’\n",
            "\n",
            "yellow_tripdata_202 100%[===================>]  61.36M   185MB/s    in 0.3s    \n",
            "\n",
            "2025-02-23 15:45:27 (185 MB/s) - ‘yellow_tripdata_2024-10.parquet’ saved [64346071/64346071]\n",
            "\n"
          ]
        }
      ]
    },
    {
      "cell_type": "code",
      "source": [
        "import pyspark\n",
        "from pyspark.sql import SparkSession\n",
        "\n",
        "spark = SparkSession.builder \\\n",
        "    .master(\"local[*]\") \\\n",
        "    .appName('test') \\\n",
        "    .getOrCreate()\n",
        "\n",
        "df = spark.read \\\n",
        "    .option(\"header\", \"true\") \\\n",
        "    .parquet('yellow_tripdata_2024-10.parquet')\n",
        "\n",
        "df.show()"
      ],
      "metadata": {
        "colab": {
          "base_uri": "https://localhost:8080/"
        },
        "id": "Pep14yvcY3W9",
        "outputId": "46dc31cf-155c-4a51-b34d-0f7f2c70ab7c"
      },
      "execution_count": 40,
      "outputs": [
        {
          "output_type": "stream",
          "name": "stdout",
          "text": [
            "+--------+--------------------+---------------------+---------------+-------------+----------+------------------+------------+------------+------------+-----------+-----+-------+----------+------------+---------------------+------------+--------------------+-----------+\n",
            "|VendorID|tpep_pickup_datetime|tpep_dropoff_datetime|passenger_count|trip_distance|RatecodeID|store_and_fwd_flag|PULocationID|DOLocationID|payment_type|fare_amount|extra|mta_tax|tip_amount|tolls_amount|improvement_surcharge|total_amount|congestion_surcharge|Airport_fee|\n",
            "+--------+--------------------+---------------------+---------------+-------------+----------+------------------+------------+------------+------------+-----------+-----+-------+----------+------------+---------------------+------------+--------------------+-----------+\n",
            "|       2| 2024-10-01 00:30:44|  2024-10-01 00:48:26|              1|          3.0|         1|                 N|         162|         246|           1|       18.4|  1.0|    0.5|       1.5|         0.0|                  1.0|        24.9|                 2.5|        0.0|\n",
            "|       1| 2024-10-01 00:12:20|  2024-10-01 00:25:25|              1|          2.2|         1|                 N|          48|         236|           1|       14.2|  3.5|    0.5|       3.8|         0.0|                  1.0|        23.0|                 2.5|        0.0|\n",
            "|       1| 2024-10-01 00:04:46|  2024-10-01 00:13:52|              1|          2.7|         1|                 N|         142|          24|           1|       13.5|  3.5|    0.5|       3.7|         0.0|                  1.0|        22.2|                 2.5|        0.0|\n",
            "|       1| 2024-10-01 00:12:10|  2024-10-01 00:23:01|              1|          3.1|         1|                 N|         233|          75|           1|       14.2|  3.5|    0.5|       2.0|         0.0|                  1.0|        21.2|                 2.5|        0.0|\n",
            "|       1| 2024-10-01 00:30:22|  2024-10-01 00:30:39|              1|          0.0|         1|                 N|         262|         262|           3|        3.0|  3.5|    0.5|       0.0|         0.0|                  1.0|         8.0|                 2.5|        0.0|\n",
            "|       2| 2024-10-01 00:31:20|  2024-10-01 00:36:00|              2|         0.97|         1|                 N|         137|         137|           1|        7.2|  1.0|    0.5|      2.44|         0.0|                  1.0|       14.64|                 2.5|        0.0|\n",
            "|       1| 2024-10-01 00:42:57|  2024-10-01 00:49:01|              1|          1.3|         1|                 N|         142|          48|           1|        7.9|  3.5|    0.5|      2.55|         0.0|                  1.0|       15.45|                 2.5|        0.0|\n",
            "|       1| 2024-10-01 00:59:55|  2024-10-01 01:02:24|              1|          0.5|         1|                 N|         230|         161|           1|        5.1|  3.5|    0.5|       2.0|         0.0|                  1.0|        12.1|                 2.5|        0.0|\n",
            "|       1| 2024-10-01 00:00:47|  2024-10-01 00:04:22|              0|          1.1|         1|                 N|         142|         237|           1|        7.2|  3.5|    0.5|       3.0|         0.0|                  1.0|        15.2|                 2.5|        0.0|\n",
            "|       1| 2024-10-01 00:17:36|  2024-10-01 00:26:22|              1|          2.2|         1|                 N|         162|         145|           1|       11.4|  3.5|    0.5|       3.3|         0.0|                  1.0|        19.7|                 2.5|        0.0|\n",
            "|       1| 2024-10-01 00:49:00|  2024-10-01 00:52:20|              1|          0.6|         1|                 N|         229|         162|           1|        5.1|  3.5|    0.5|       2.0|         0.0|                  1.0|        12.1|                 2.5|        0.0|\n",
            "|       2| 2024-10-01 00:07:26|  2024-10-01 00:13:20|              1|          0.9|         1|                 N|         162|         162|           1|        7.9|  1.0|    0.5|      3.87|         0.0|                  1.0|       16.77|                 2.5|        0.0|\n",
            "|       2| 2024-10-01 00:17:11|  2024-10-01 00:25:00|              1|         1.33|         1|                 N|         162|         230|           1|        9.3|  1.0|    0.5|       2.0|         0.0|                  1.0|        16.3|                 2.5|        0.0|\n",
            "|       2| 2024-10-01 00:00:34|  2024-10-01 00:05:13|              1|         1.79|         1|                 N|         211|         234|           1|        9.3|  1.0|    0.5|      2.86|         0.0|                  1.0|       17.16|                 2.5|        0.0|\n",
            "|       2| 2024-09-30 23:58:40|  2024-10-01 00:20:26|              1|         5.16|         1|                 N|         142|           7|           1|       24.7|  1.0|    0.5|       0.0|         0.0|                  1.0|        29.7|                 2.5|        0.0|\n",
            "|       1| 2024-10-01 00:55:29|  2024-10-01 01:42:35|              1|         11.3|        99|                 N|         161|         197|           1|       39.5|  0.0|    0.5|       0.0|        6.94|                  1.0|       47.94|                 0.0|        0.0|\n",
            "|       1| 2024-10-01 00:08:59|  2024-10-01 00:40:58|              1|         20.6|         1|                 N|         132|         243|           2|       76.5| 2.75|    0.5|       0.0|        6.94|                  1.0|       87.69|                 0.0|       1.75|\n",
            "|       2| 2024-10-01 00:18:38|  2024-10-01 00:36:47|              2|         7.42|         1|                 N|         239|         247|           4|      -33.1| -1.0|   -0.5|       0.0|         0.0|                 -1.0|       -38.1|                -2.5|        0.0|\n",
            "|       2| 2024-10-01 00:18:38|  2024-10-01 00:36:47|              2|         7.42|         1|                 N|         239|         247|           4|       33.1|  1.0|    0.5|       0.0|         0.0|                  1.0|        38.1|                 2.5|        0.0|\n",
            "|       2| 2024-10-01 00:39:33|  2024-10-01 00:53:59|              1|         4.49|         1|                 N|         247|          60|           2|       21.9|  1.0|    0.5|       0.0|         0.0|                  1.0|        24.4|                 0.0|        0.0|\n",
            "+--------+--------------------+---------------------+---------------+-------------+----------+------------------+------------+------------+------------+-----------+-----+-------+----------+------------+---------------------+------------+--------------------+-----------+\n",
            "only showing top 20 rows\n",
            "\n"
          ]
        }
      ]
    },
    {
      "cell_type": "code",
      "source": [
        "df.printSchema()\n"
      ],
      "metadata": {
        "colab": {
          "base_uri": "https://localhost:8080/"
        },
        "id": "ybJ8_YR6hmPc",
        "outputId": "89353e1a-30ce-42b0-e79b-d80cd6da1edb"
      },
      "execution_count": 55,
      "outputs": [
        {
          "output_type": "stream",
          "name": "stdout",
          "text": [
            "root\n",
            " |-- VendorID: integer (nullable = true)\n",
            " |-- tpep_pickup_datetime: timestamp_ntz (nullable = true)\n",
            " |-- tpep_dropoff_datetime: timestamp_ntz (nullable = true)\n",
            " |-- passenger_count: long (nullable = true)\n",
            " |-- trip_distance: double (nullable = true)\n",
            " |-- RatecodeID: long (nullable = true)\n",
            " |-- store_and_fwd_flag: string (nullable = true)\n",
            " |-- PULocationID: integer (nullable = true)\n",
            " |-- DOLocationID: integer (nullable = true)\n",
            " |-- payment_type: long (nullable = true)\n",
            " |-- fare_amount: double (nullable = true)\n",
            " |-- extra: double (nullable = true)\n",
            " |-- mta_tax: double (nullable = true)\n",
            " |-- tip_amount: double (nullable = true)\n",
            " |-- tolls_amount: double (nullable = true)\n",
            " |-- improvement_surcharge: double (nullable = true)\n",
            " |-- total_amount: double (nullable = true)\n",
            " |-- congestion_surcharge: double (nullable = true)\n",
            " |-- Airport_fee: double (nullable = true)\n",
            "\n"
          ]
        }
      ]
    },
    {
      "cell_type": "code",
      "source": [
        "import os\n",
        "import glob\n",
        "df_repartitioned = df.repartition(4)\n",
        "\n",
        "df_repartitioned.write.mode(\"overwrite\").parquet(\"output_data\")\n",
        "output_dir = \"output_data\"\n",
        "\n",
        "parquet_files = glob.glob(os.path.join(output_dir, \"*.parquet\"))\n",
        "\n",
        "total_size = sum(os.path.getsize(f) for f in parquet_files)\n",
        "num_files = len(parquet_files)\n",
        "\n",
        "avg_size = total_size / num_files if num_files > 0 else 0\n",
        "\n",
        "print(f\"Avg size: {avg_size / (1024 * 1024):.2f} MB\")\n"
      ],
      "metadata": {
        "colab": {
          "base_uri": "https://localhost:8080/"
        },
        "id": "C3EaDiKjY7Ft",
        "outputId": "7400613d-8ebe-4320-d023-339cded252a0"
      },
      "execution_count": 41,
      "outputs": [
        {
          "output_type": "stream",
          "name": "stdout",
          "text": [
            "Avg size: 23.04 MB\n"
          ]
        }
      ]
    },
    {
      "cell_type": "code",
      "source": [
        "df[(df[\"tpep_pickup_datetime\"]>=\"2024-10-15\") & (df[\"tpep_pickup_datetime\"]<\"2024-10-16\")].count()\n",
        "\n"
      ],
      "metadata": {
        "colab": {
          "base_uri": "https://localhost:8080/"
        },
        "id": "Go34UyUraVR2",
        "outputId": "20dae366-1bef-47df-9a0c-220d809c69e2"
      },
      "execution_count": 42,
      "outputs": [
        {
          "output_type": "execute_result",
          "data": {
            "text/plain": [
              "128893"
            ]
          },
          "metadata": {},
          "execution_count": 42
        }
      ]
    },
    {
      "cell_type": "code",
      "source": [
        "df.count()"
      ],
      "metadata": {
        "colab": {
          "base_uri": "https://localhost:8080/"
        },
        "id": "GkIcGCFKfT8N",
        "outputId": "c3238952-d443-42b4-8c35-1038156932db"
      },
      "execution_count": 43,
      "outputs": [
        {
          "output_type": "execute_result",
          "data": {
            "text/plain": [
              "3833771"
            ]
          },
          "metadata": {},
          "execution_count": 43
        }
      ]
    },
    {
      "cell_type": "code",
      "source": [],
      "metadata": {
        "id": "dGtWXgLNiJpr"
      },
      "execution_count": null,
      "outputs": []
    },
    {
      "cell_type": "code",
      "source": [
        "from pyspark.sql.functions import col, max, unix_timestamp\n",
        "\n",
        "pnt = df.orderBy(df.trip_distance.desc()).limit(1)\n",
        "df = df.withColumn(\"duration_seconds\", unix_timestamp(\"tpep_dropoff_datetime\") - unix_timestamp(\"tpep_pickup_datetime\"))\n",
        "\n"
      ],
      "metadata": {
        "id": "biqZUl3tbuUO"
      },
      "execution_count": 58,
      "outputs": []
    },
    {
      "cell_type": "code",
      "source": [
        "df.agg(max(\"duration_seconds\")).collect()[0][0]/3600"
      ],
      "metadata": {
        "colab": {
          "base_uri": "https://localhost:8080/"
        },
        "id": "30skhswMiLZ9",
        "outputId": "3381382d-0b0f-47a6-8a1a-19f780616baa"
      },
      "execution_count": 61,
      "outputs": [
        {
          "output_type": "execute_result",
          "data": {
            "text/plain": [
              "162.61777777777777"
            ]
          },
          "metadata": {},
          "execution_count": 61
        }
      ]
    },
    {
      "cell_type": "code",
      "source": [
        "from datetime import datetime\n",
        "temp.orderBy(temp.duration_seconds.desc()).limit(10)"
      ],
      "metadata": {
        "colab": {
          "base_uri": "https://localhost:8080/",
          "height": 298
        },
        "id": "KWam3k3Rf7lV",
        "outputId": "eaca8060-47bf-4cff-8b46-5dab722dbd22"
      },
      "execution_count": 51,
      "outputs": [
        {
          "output_type": "execute_result",
          "data": {
            "text/plain": [
              "+--------+--------------------+---------------------+---------------+-------------+----------+------------------+------------+------------+------------+-----------+-----+-------+----------+------------+---------------------+------------+--------------------+-----------+--------------------+\n",
              "|VendorID|tpep_pickup_datetime|tpep_dropoff_datetime|passenger_count|trip_distance|RatecodeID|store_and_fwd_flag|PULocationID|DOLocationID|payment_type|fare_amount|extra|mta_tax|tip_amount|tolls_amount|improvement_surcharge|total_amount|congestion_surcharge|Airport_fee|    duration_seconds|\n",
              "+--------+--------------------+---------------------+---------------+-------------+----------+------------------+------------+------------+------------+-----------+-----+-------+----------+------------+---------------------+------------+--------------------+-----------+--------------------+\n",
              "|       2| 2024-11-14 18:30:00|  2024-11-14 18:41:41|              1|         2.07|         1|                 N|         162|         142|           1|       12.8|  1.0|    0.5|      3.56|         0.0|                  1.0|       21.36|                 2.5|        0.0|      1.7311286985E9|\n",
              "|       2| 2024-11-01 16:49:14|  2024-11-02 16:25:32|              1|         1.99|         1|                 N|         238|         142|           1|       13.5|  2.5|    0.5|       3.0|         0.0|                  1.0|        23.0|                 2.5|        0.0|1.7300840431794446E9|\n",
              "|       2| 2024-11-01 23:45:57|  2024-11-01 23:59:43|              1|         5.23|         1|                 N|         138|          95|           1|       23.3|  6.0|    0.5|       3.0|         0.0|                  1.0|       35.55|                 0.0|       1.75|1.7300248872341666E9|\n",
              "|       2| 2024-10-31 23:44:08|  2024-11-01 23:35:16|              1|         0.44|         1|                 N|          79|         114|           2|        7.2|  1.0|    0.5|       0.0|         0.0|                  1.0|        12.2|                 2.5|        0.0|1.7300234442644444E9|\n",
              "|       2| 2024-10-31 23:32:18|  2024-11-01 23:26:13|              1|         1.41|         1|                 N|         113|         137|           1|       17.0|  1.0|    0.5|       2.2|         0.0|                  1.0|        24.2|                 2.5|        0.0|1.7300229014616666E9|\n",
              "|       2| 2024-10-31 23:26:12|  2024-11-01 23:25:02|              2|         2.87|         1|                 N|         137|         144|           1|       21.9|  1.0|    0.5|       0.0|         0.0|                  1.0|        26.9|                 2.5|        0.0|1.7300228305633333E9|\n",
              "|       2| 2024-10-31 23:28:04|  2024-11-01 23:13:10|              2|         3.94|         1|                 N|          24|         141|           1|       21.2|  1.0|    0.5|      5.24|         0.0|                  1.0|       31.44|                 2.5|        0.0|1.7300221185322223E9|\n",
              "|       2| 2024-10-31 23:39:07|  2024-11-01 23:11:37|              1|         4.83|         1|                 N|          48|         152|           1|       25.4|  1.0|    0.5|      6.08|         0.0|                  1.0|       36.48|                 2.5|        0.0|1.7300220253480556E9|\n",
              "|       2| 2024-10-31 23:15:09|  2024-11-01 23:08:25|              1|         1.48|         1|                 N|         170|          79|           2|       10.7|  1.0|    0.5|       0.0|         0.0|                  1.0|        15.7|                 2.5|        0.0|   1.7300218337475E9|\n",
              "|       2| 2024-10-31 23:09:33|  2024-11-01 22:56:44|              1|         1.23|         1|                 N|         186|         170|           2|       14.9|  1.0|    0.5|       0.0|         0.0|                  1.0|        19.9|                 2.5|        0.0|1.7300211328408334E9|\n",
              "+--------+--------------------+---------------------+---------------+-------------+----------+------------------+------------+------------+------------+-----------+-----+-------+----------+------------+---------------------+------------+--------------------+-----------+--------------------+"
            ],
            "text/html": [
              "<table border='1'>\n",
              "<tr><th>VendorID</th><th>tpep_pickup_datetime</th><th>tpep_dropoff_datetime</th><th>passenger_count</th><th>trip_distance</th><th>RatecodeID</th><th>store_and_fwd_flag</th><th>PULocationID</th><th>DOLocationID</th><th>payment_type</th><th>fare_amount</th><th>extra</th><th>mta_tax</th><th>tip_amount</th><th>tolls_amount</th><th>improvement_surcharge</th><th>total_amount</th><th>congestion_surcharge</th><th>Airport_fee</th><th>duration_seconds</th></tr>\n",
              "<tr><td>2</td><td>2024-11-14 18:30:00</td><td>2024-11-14 18:41:41</td><td>1</td><td>2.07</td><td>1</td><td>N</td><td>162</td><td>142</td><td>1</td><td>12.8</td><td>1.0</td><td>0.5</td><td>3.56</td><td>0.0</td><td>1.0</td><td>21.36</td><td>2.5</td><td>0.0</td><td>1.7311286985E9</td></tr>\n",
              "<tr><td>2</td><td>2024-11-01 16:49:14</td><td>2024-11-02 16:25:32</td><td>1</td><td>1.99</td><td>1</td><td>N</td><td>238</td><td>142</td><td>1</td><td>13.5</td><td>2.5</td><td>0.5</td><td>3.0</td><td>0.0</td><td>1.0</td><td>23.0</td><td>2.5</td><td>0.0</td><td>1.7300840431794446E9</td></tr>\n",
              "<tr><td>2</td><td>2024-11-01 23:45:57</td><td>2024-11-01 23:59:43</td><td>1</td><td>5.23</td><td>1</td><td>N</td><td>138</td><td>95</td><td>1</td><td>23.3</td><td>6.0</td><td>0.5</td><td>3.0</td><td>0.0</td><td>1.0</td><td>35.55</td><td>0.0</td><td>1.75</td><td>1.7300248872341666E9</td></tr>\n",
              "<tr><td>2</td><td>2024-10-31 23:44:08</td><td>2024-11-01 23:35:16</td><td>1</td><td>0.44</td><td>1</td><td>N</td><td>79</td><td>114</td><td>2</td><td>7.2</td><td>1.0</td><td>0.5</td><td>0.0</td><td>0.0</td><td>1.0</td><td>12.2</td><td>2.5</td><td>0.0</td><td>1.7300234442644444E9</td></tr>\n",
              "<tr><td>2</td><td>2024-10-31 23:32:18</td><td>2024-11-01 23:26:13</td><td>1</td><td>1.41</td><td>1</td><td>N</td><td>113</td><td>137</td><td>1</td><td>17.0</td><td>1.0</td><td>0.5</td><td>2.2</td><td>0.0</td><td>1.0</td><td>24.2</td><td>2.5</td><td>0.0</td><td>1.7300229014616666E9</td></tr>\n",
              "<tr><td>2</td><td>2024-10-31 23:26:12</td><td>2024-11-01 23:25:02</td><td>2</td><td>2.87</td><td>1</td><td>N</td><td>137</td><td>144</td><td>1</td><td>21.9</td><td>1.0</td><td>0.5</td><td>0.0</td><td>0.0</td><td>1.0</td><td>26.9</td><td>2.5</td><td>0.0</td><td>1.7300228305633333E9</td></tr>\n",
              "<tr><td>2</td><td>2024-10-31 23:28:04</td><td>2024-11-01 23:13:10</td><td>2</td><td>3.94</td><td>1</td><td>N</td><td>24</td><td>141</td><td>1</td><td>21.2</td><td>1.0</td><td>0.5</td><td>5.24</td><td>0.0</td><td>1.0</td><td>31.44</td><td>2.5</td><td>0.0</td><td>1.7300221185322223E9</td></tr>\n",
              "<tr><td>2</td><td>2024-10-31 23:39:07</td><td>2024-11-01 23:11:37</td><td>1</td><td>4.83</td><td>1</td><td>N</td><td>48</td><td>152</td><td>1</td><td>25.4</td><td>1.0</td><td>0.5</td><td>6.08</td><td>0.0</td><td>1.0</td><td>36.48</td><td>2.5</td><td>0.0</td><td>1.7300220253480556E9</td></tr>\n",
              "<tr><td>2</td><td>2024-10-31 23:15:09</td><td>2024-11-01 23:08:25</td><td>1</td><td>1.48</td><td>1</td><td>N</td><td>170</td><td>79</td><td>2</td><td>10.7</td><td>1.0</td><td>0.5</td><td>0.0</td><td>0.0</td><td>1.0</td><td>15.7</td><td>2.5</td><td>0.0</td><td>1.7300218337475E9</td></tr>\n",
              "<tr><td>2</td><td>2024-10-31 23:09:33</td><td>2024-11-01 22:56:44</td><td>1</td><td>1.23</td><td>1</td><td>N</td><td>186</td><td>170</td><td>2</td><td>14.9</td><td>1.0</td><td>0.5</td><td>0.0</td><td>0.0</td><td>1.0</td><td>19.9</td><td>2.5</td><td>0.0</td><td>1.7300211328408334E9</td></tr>\n",
              "</table>\n"
            ]
          },
          "metadata": {},
          "execution_count": 51
        }
      ]
    },
    {
      "cell_type": "code",
      "source": [
        "!wget https://d37ci6vzurychx.cloudfront.net/misc/taxi_zone_lookup.csv"
      ],
      "metadata": {
        "colab": {
          "base_uri": "https://localhost:8080/"
        },
        "id": "X6nxO6Whi3md",
        "outputId": "53de9c7e-4415-4a08-dd11-48890833d082"
      },
      "execution_count": 62,
      "outputs": [
        {
          "output_type": "stream",
          "name": "stdout",
          "text": [
            "--2025-02-23 16:02:19--  https://d37ci6vzurychx.cloudfront.net/misc/taxi_zone_lookup.csv\n",
            "Resolving d37ci6vzurychx.cloudfront.net (d37ci6vzurychx.cloudfront.net)... 18.154.99.47, 18.154.99.220, 18.154.99.225, ...\n",
            "Connecting to d37ci6vzurychx.cloudfront.net (d37ci6vzurychx.cloudfront.net)|18.154.99.47|:443... connected.\n",
            "HTTP request sent, awaiting response... 200 OK\n",
            "Length: 12331 (12K) [text/csv]\n",
            "Saving to: ‘taxi_zone_lookup.csv.1’\n",
            "\n",
            "\rtaxi_zone_lookup.cs   0%[                    ]       0  --.-KB/s               \rtaxi_zone_lookup.cs 100%[===================>]  12.04K  --.-KB/s    in 0.001s  \n",
            "\n",
            "2025-02-23 16:02:19 (14.4 MB/s) - ‘taxi_zone_lookup.csv.1’ saved [12331/12331]\n",
            "\n"
          ]
        }
      ]
    },
    {
      "cell_type": "code",
      "source": [
        "db = spark.read \\\n",
        "    .option(\"header\", \"true\") \\\n",
        "    .csv('taxi_zone_lookup.csv')\n",
        "db.show()"
      ],
      "metadata": {
        "colab": {
          "base_uri": "https://localhost:8080/"
        },
        "id": "4cMlBFj6i-rE",
        "outputId": "3fc1b540-51cf-471c-a95b-069f775ffaed"
      },
      "execution_count": 72,
      "outputs": [
        {
          "output_type": "stream",
          "name": "stdout",
          "text": [
            "+----------+-------------+--------------------+------------+\n",
            "|LocationID|      Borough|                Zone|service_zone|\n",
            "+----------+-------------+--------------------+------------+\n",
            "|         1|          EWR|      Newark Airport|         EWR|\n",
            "|         2|       Queens|         Jamaica Bay|   Boro Zone|\n",
            "|         3|        Bronx|Allerton/Pelham G...|   Boro Zone|\n",
            "|         4|    Manhattan|       Alphabet City| Yellow Zone|\n",
            "|         5|Staten Island|       Arden Heights|   Boro Zone|\n",
            "|         6|Staten Island|Arrochar/Fort Wad...|   Boro Zone|\n",
            "|         7|       Queens|             Astoria|   Boro Zone|\n",
            "|         8|       Queens|        Astoria Park|   Boro Zone|\n",
            "|         9|       Queens|          Auburndale|   Boro Zone|\n",
            "|        10|       Queens|        Baisley Park|   Boro Zone|\n",
            "|        11|     Brooklyn|          Bath Beach|   Boro Zone|\n",
            "|        12|    Manhattan|        Battery Park| Yellow Zone|\n",
            "|        13|    Manhattan|   Battery Park City| Yellow Zone|\n",
            "|        14|     Brooklyn|           Bay Ridge|   Boro Zone|\n",
            "|        15|       Queens|Bay Terrace/Fort ...|   Boro Zone|\n",
            "|        16|       Queens|             Bayside|   Boro Zone|\n",
            "|        17|     Brooklyn|             Bedford|   Boro Zone|\n",
            "|        18|        Bronx|        Bedford Park|   Boro Zone|\n",
            "|        19|       Queens|           Bellerose|   Boro Zone|\n",
            "|        20|        Bronx|             Belmont|   Boro Zone|\n",
            "+----------+-------------+--------------------+------------+\n",
            "only showing top 20 rows\n",
            "\n"
          ]
        }
      ]
    },
    {
      "cell_type": "code",
      "source": [
        "from pyspark.sql.functions import col, asc\n",
        "\n",
        "df.groupBy(\"PULocationID\").count().orderBy(asc(\"count\")).limit(1).show()"
      ],
      "metadata": {
        "colab": {
          "base_uri": "https://localhost:8080/"
        },
        "id": "GztgRohPjHkc",
        "outputId": "af961312-6688-4473-fb5a-fa4e997f8ac0"
      },
      "execution_count": 77,
      "outputs": [
        {
          "output_type": "stream",
          "name": "stdout",
          "text": [
            "+------------+-----+\n",
            "|PULocationID|count|\n",
            "+------------+-----+\n",
            "|         105|    1|\n",
            "+------------+-----+\n",
            "\n"
          ]
        }
      ]
    },
    {
      "cell_type": "code",
      "source": [
        "db_filtered = db.filter(col(\"LocationID\").isNotNull() & col(\"LocationID\").isin([105]))\n",
        "db_filtered.show()"
      ],
      "metadata": {
        "colab": {
          "base_uri": "https://localhost:8080/"
        },
        "id": "JGPTJhWMj5td",
        "outputId": "2cf3b76b-700e-431d-99da-a45445faeef6"
      },
      "execution_count": 78,
      "outputs": [
        {
          "output_type": "stream",
          "name": "stdout",
          "text": [
            "+----------+---------+--------------------+------------+\n",
            "|LocationID|  Borough|                Zone|service_zone|\n",
            "+----------+---------+--------------------+------------+\n",
            "|       105|Manhattan|Governor's Island...| Yellow Zone|\n",
            "+----------+---------+--------------------+------------+\n",
            "\n"
          ]
        }
      ]
    }
  ]
}